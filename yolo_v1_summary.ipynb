{
 "cells": [
  {
   "cell_type": "code",
   "execution_count": 1,
   "id": "27a20032",
   "metadata": {},
   "outputs": [],
   "source": [
    "import os\n",
    "import cv2\n",
    "import numpy as np\n",
    "from network import *\n",
    "from keras.models import load_model"
   ]
  },
  {
   "cell_type": "markdown",
   "id": "8633cf38",
   "metadata": {},
   "source": [
    "# PRETRAIN MODE"
   ]
  },
  {
   "cell_type": "code",
   "execution_count": 3,
   "id": "95719638",
   "metadata": {},
   "outputs": [
    {
     "name": "stdout",
     "output_type": "stream",
     "text": [
      "Metal device set to: Apple M1\n"
     ]
    },
    {
     "name": "stderr",
     "output_type": "stream",
     "text": [
      "2023-04-01 17:50:30.417804: I tensorflow/core/common_runtime/pluggable_device/pluggable_device_factory.cc:305] Could not identify NUMA node of platform GPU ID 0, defaulting to 0. Your kernel may not have been built with NUMA support.\n",
      "2023-04-01 17:50:30.418636: I tensorflow/core/common_runtime/pluggable_device/pluggable_device_factory.cc:271] Created TensorFlow device (/job:localhost/replica:0/task:0/device:GPU:0 with 0 MB memory) -> physical PluggableDevice (device: 0, name: METAL, pci bus id: <undefined>)\n"
     ]
    }
   ],
   "source": [
    "base_model =  Network().YOLO_v1_pretrain()"
   ]
  },
  {
   "cell_type": "code",
   "execution_count": 4,
   "id": "5324f71f",
   "metadata": {},
   "outputs": [
    {
     "name": "stdout",
     "output_type": "stream",
     "text": [
      "Model: \"model\"\n",
      "_________________________________________________________________\n",
      " Layer (type)                Output Shape              Param #   \n",
      "=================================================================\n",
      " input_1 (InputLayer)        [(None, 224, 224, 3)]     0         \n",
      "                                                                 \n",
      " backbone (Sequential)       (None, 7, 7, 1024)        22439488  \n",
      "                                                                 \n",
      " average_pooling2d (AverageP  (None, 3, 3, 1024)       0         \n",
      " ooling2D)                                                       \n",
      "                                                                 \n",
      " flatten (Flatten)           (None, 9216)              0         \n",
      "                                                                 \n",
      " dense (Dense)               (None, 20)                184340    \n",
      "                                                                 \n",
      " activation (Activation)     (None, 20)                0         \n",
      "                                                                 \n",
      "=================================================================\n",
      "Total params: 22,623,828\n",
      "Trainable params: 22,605,652\n",
      "Non-trainable params: 18,176\n",
      "_________________________________________________________________\n",
      "None\n"
     ]
    }
   ],
   "source": [
    "print(base_model.summary())"
   ]
  },
  {
   "cell_type": "code",
   "execution_count": 5,
   "id": "a56b1478",
   "metadata": {},
   "outputs": [],
   "source": [
    "img_load = os.path.join('VOCdevkit_2007_trainval', \n",
    "                        'VOC2007', \n",
    "                        'JPEGImages', '000005.jpg')\n",
    "img = cv2.cvtColor(cv2.imread(img_load), cv2.COLOR_BGR2RGB)\n",
    "img = cv2.resize(img, (224, 224), interpolation=cv2.INTER_AREA)\n",
    "img = np.expand_dims(img, 0)"
   ]
  },
  {
   "cell_type": "code",
   "execution_count": 6,
   "id": "492da09d",
   "metadata": {},
   "outputs": [
    {
     "name": "stderr",
     "output_type": "stream",
     "text": [
      "2023-04-01 17:50:40.351993: W tensorflow/core/platform/profile_utils/cpu_utils.cc:128] Failed to get CPU frequency: 0 Hz\n",
      "2023-04-01 17:50:40.458195: I tensorflow/core/grappler/optimizers/custom_graph_optimizer_registry.cc:113] Plugin optimizer for device_type GPU is enabled.\n"
     ]
    },
    {
     "name": "stdout",
     "output_type": "stream",
     "text": [
      "1/1 [==============================] - 0s 306ms/step\n"
     ]
    }
   ],
   "source": [
    "res = base_model.predict(img)"
   ]
  },
  {
   "cell_type": "code",
   "execution_count": 7,
   "id": "65e657fb",
   "metadata": {},
   "outputs": [
    {
     "name": "stdout",
     "output_type": "stream",
     "text": [
      "(1, 20)\n"
     ]
    }
   ],
   "source": [
    "print(res.shape)"
   ]
  },
  {
   "cell_type": "code",
   "execution_count": 10,
   "id": "f07e4da3",
   "metadata": {},
   "outputs": [],
   "source": [
    "base_model.save_weights('./pretrain_model_weights', save_format='tf')"
   ]
  },
  {
   "cell_type": "markdown",
   "id": "ccafa12d",
   "metadata": {},
   "source": [
    "# DETECT MODE"
   ]
  },
  {
   "cell_type": "code",
   "execution_count": 12,
   "id": "aa3f1d67",
   "metadata": {},
   "outputs": [],
   "source": [
    "yolo_v1 = Network().YOLO_v1()"
   ]
  },
  {
   "cell_type": "code",
   "execution_count": 13,
   "id": "df980106",
   "metadata": {},
   "outputs": [
    {
     "name": "stdout",
     "output_type": "stream",
     "text": [
      "Model: \"model_1\"\n",
      "_________________________________________________________________\n",
      " Layer (type)                Output Shape              Param #   \n",
      "=================================================================\n",
      " input_2 (InputLayer)        [(None, 448, 448, 3)]     0         \n",
      "                                                                 \n",
      " backbone (Sequential)       (None, 14, 14, 1024)      22439488  \n",
      "                                                                 \n",
      " neck (Sequential)           (None, 7, 7, 1024)        37769216  \n",
      "                                                                 \n",
      " fc_layers (Sequential)      (None, 1470)              211547582 \n",
      "                                                                 \n",
      "=================================================================\n",
      "Total params: 271,756,286\n",
      "Trainable params: 271,729,918\n",
      "Non-trainable params: 26,368\n",
      "_________________________________________________________________\n",
      "None\n"
     ]
    }
   ],
   "source": [
    "print(yolo_v1.summary())"
   ]
  },
  {
   "cell_type": "code",
   "execution_count": 14,
   "id": "18090882",
   "metadata": {},
   "outputs": [],
   "source": [
    "img_load = os.path.join('VOCdevkit_2007_trainval', \n",
    "                        'VOC2007', \n",
    "                        'JPEGImages', '000005.jpg')\n",
    "img = cv2.cvtColor(cv2.imread(img_load), cv2.COLOR_BGR2RGB)\n",
    "img = cv2.resize(img, (448, 448), interpolation=cv2.INTER_AREA)\n",
    "img = np.expand_dims(img, 0)"
   ]
  },
  {
   "cell_type": "code",
   "execution_count": 15,
   "id": "22905fbc",
   "metadata": {},
   "outputs": [
    {
     "name": "stdout",
     "output_type": "stream",
     "text": [
      "1/1 [==============================] - 0s 300ms/step\n"
     ]
    },
    {
     "name": "stderr",
     "output_type": "stream",
     "text": [
      "2023-04-01 17:51:36.495657: I tensorflow/core/grappler/optimizers/custom_graph_optimizer_registry.cc:113] Plugin optimizer for device_type GPU is enabled.\n"
     ]
    }
   ],
   "source": [
    "res = yolo_v1.predict(img)"
   ]
  },
  {
   "cell_type": "code",
   "execution_count": 16,
   "id": "cd5bea70",
   "metadata": {},
   "outputs": [
    {
     "name": "stdout",
     "output_type": "stream",
     "text": [
      "(1, 1470)\n"
     ]
    }
   ],
   "source": [
    "print(res.shape)"
   ]
  },
  {
   "cell_type": "markdown",
   "id": "f0d22f5f",
   "metadata": {},
   "source": [
    "# Transfer Learning"
   ]
  },
  {
   "cell_type": "code",
   "execution_count": 18,
   "id": "038ecb2c",
   "metadata": {},
   "outputs": [],
   "source": [
    "base_model.load_weights('pretrain_model_weights')\n",
    "layer_dict = dict([(layer.name, layer) for layer in base_model.layers])\n"
   ]
  },
  {
   "cell_type": "code",
   "execution_count": 19,
   "id": "aa496bd6",
   "metadata": {},
   "outputs": [
    {
     "name": "stdout",
     "output_type": "stream",
     "text": [
      "input_1: <keras.engine.input_layer.InputLayer object at 0x28a902ec0>\n",
      "backbone: <keras.engine.sequential.Sequential object at 0x28aa646a0>\n",
      "average_pooling2d: <keras.layers.pooling.average_pooling2d.AveragePooling2D object at 0x28a8f7bb0>\n",
      "flatten: <keras.layers.reshaping.flatten.Flatten object at 0x28aac09d0>\n",
      "dense: <keras.layers.core.dense.Dense object at 0x28aa66c20>\n",
      "activation: <keras.layers.core.activation.Activation object at 0x28a8f7df0>\n"
     ]
    }
   ],
   "source": [
    "for k in layer_dict:\n",
    "    print(f'{k}: {layer_dict[k]}')"
   ]
  },
  {
   "cell_type": "code",
   "execution_count": 20,
   "id": "3216dd1e",
   "metadata": {},
   "outputs": [
    {
     "name": "stdout",
     "output_type": "stream",
     "text": [
      "backbone is loaded\n"
     ]
    }
   ],
   "source": [
    "for layer in yolo_v1.layers:\n",
    "    layer_name = layer.name\n",
    "    if layer_name in layer_dict:   \n",
    "        print(f\"{layer_name} is loaded\")\n",
    "        layer.set_weights(layer_dict[layer_name].get_weights())"
   ]
  },
  {
   "cell_type": "code",
   "execution_count": 22,
   "id": "53983510",
   "metadata": {},
   "outputs": [],
   "source": [
    "para_sum = 0\n",
    "for layer in yolo_v1.layers:\n",
    "    layer_name = layer.name\n",
    "    if layer_name == 'backbone':\n",
    "        ws = layer.get_weights()\n",
    "        for w in ws:\n",
    "            t = 1\n",
    "            for ws in w.shape:\n",
    "                t *= ws \n",
    "            para_sum += t\n",
    "\n",
    "assert para_sum == 22439488"
   ]
  },
  {
   "cell_type": "code",
   "execution_count": null,
   "id": "0a509890",
   "metadata": {},
   "outputs": [],
   "source": []
  }
 ],
 "metadata": {
  "kernelspec": {
   "display_name": "Python 3 (ipykernel)",
   "language": "python",
   "name": "python3"
  },
  "language_info": {
   "codemirror_mode": {
    "name": "ipython",
    "version": 3
   },
   "file_extension": ".py",
   "mimetype": "text/x-python",
   "name": "python",
   "nbconvert_exporter": "python",
   "pygments_lexer": "ipython3",
   "version": "3.10.9"
  }
 },
 "nbformat": 4,
 "nbformat_minor": 5
}
