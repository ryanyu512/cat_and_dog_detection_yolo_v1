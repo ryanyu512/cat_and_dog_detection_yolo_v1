{
 "cells": [
  {
   "cell_type": "code",
   "execution_count": 1,
   "id": "27a20032",
   "metadata": {},
   "outputs": [],
   "source": [
    "from network import *"
   ]
  },
  {
   "cell_type": "code",
   "execution_count": 2,
   "id": "aa3f1d67",
   "metadata": {},
   "outputs": [
    {
     "name": "stderr",
     "output_type": "stream",
     "text": [
      "2023-03-31 23:16:23.805287: I tensorflow/core/common_runtime/pluggable_device/pluggable_device_factory.cc:305] Could not identify NUMA node of platform GPU ID 0, defaulting to 0. Your kernel may not have been built with NUMA support.\n",
      "2023-03-31 23:16:23.805831: I tensorflow/core/common_runtime/pluggable_device/pluggable_device_factory.cc:271] Created TensorFlow device (/job:localhost/replica:0/task:0/device:GPU:0 with 0 MB memory) -> physical PluggableDevice (device: 0, name: METAL, pci bus id: <undefined>)\n"
     ]
    },
    {
     "name": "stdout",
     "output_type": "stream",
     "text": [
      "Metal device set to: Apple M1\n"
     ]
    }
   ],
   "source": [
    "net = Network()\n",
    "yolo_v1 = net.YOLO_v1()"
   ]
  },
  {
   "cell_type": "code",
   "execution_count": 8,
   "id": "df980106",
   "metadata": {},
   "outputs": [
    {
     "name": "stdout",
     "output_type": "stream",
     "text": [
      "Model: \"model\"\n",
      "_________________________________________________________________\n",
      " Layer (type)                Output Shape              Param #   \n",
      "=================================================================\n",
      " input_1 (InputLayer)        [(None, 448, 448, 3)]     0         \n",
      "                                                                 \n",
      " sequential (Sequential)     (None, 14, 14, 1024)      22439488  \n",
      "                                                                 \n",
      " sequential_1 (Sequential)   (None, 7, 7, 1024)        37769216  \n",
      "                                                                 \n",
      " sequential_2 (Sequential)   (None, 1470)              211547582 \n",
      "                                                                 \n",
      "=================================================================\n",
      "Total params: 271,756,286\n",
      "Trainable params: 271,729,918\n",
      "Non-trainable params: 26,368\n",
      "_________________________________________________________________\n",
      "None\n"
     ]
    }
   ],
   "source": [
    "print(yolo_v1.summary())"
   ]
  },
  {
   "cell_type": "code",
   "execution_count": null,
   "id": "18090882",
   "metadata": {},
   "outputs": [],
   "source": []
  }
 ],
 "metadata": {
  "kernelspec": {
   "display_name": "Python 3 (ipykernel)",
   "language": "python",
   "name": "python3"
  },
  "language_info": {
   "codemirror_mode": {
    "name": "ipython",
    "version": 3
   },
   "file_extension": ".py",
   "mimetype": "text/x-python",
   "name": "python",
   "nbconvert_exporter": "python",
   "pygments_lexer": "ipython3",
   "version": "3.10.9"
  }
 },
 "nbformat": 4,
 "nbformat_minor": 5
}
