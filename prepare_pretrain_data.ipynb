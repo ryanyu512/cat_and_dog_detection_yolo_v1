{
 "cells": [
  {
   "cell_type": "markdown",
   "id": "37be9fa6",
   "metadata": {},
   "source": [
    "UPDATE ON 2023/04/02\n",
    "\n",
    "1. Aims to prepare data for classification and detection training\n",
    "2. Split original data based on the guidelines provided by train.txt, val.txt and test.txt"
   ]
  },
  {
   "cell_type": "code",
   "execution_count": 18,
   "id": "fba8dc91",
   "metadata": {},
   "outputs": [],
   "source": [
    "import os\n",
    "import uuid\n",
    "import copy\n",
    "import math\n",
    "import numpy as np\n",
    "\n",
    "from marco import *\n",
    "from visualise import *\n",
    "from prepare_data import *"
   ]
  },
  {
   "cell_type": "code",
   "execution_count": 19,
   "id": "3d5cc2e8",
   "metadata": {},
   "outputs": [],
   "source": [
    "'''\n",
    "have changed the origina folder name from\n",
    "\"VOCdevkit\" to\n",
    "f\"VOCdevkit_{year}_{trainval}\" or \n",
    "f\"VOCdevkit_{year}_{test}\"\n",
    "'''\n",
    "\n",
    "TRAIN_ROOTS = ['VOCdevkit_2007_trainval/VOC2007', \n",
    "               'VOCdevkit_2007_test/VOC2007', \n",
    "               'VOCdevkit_2012_trainval/VOC2012']\n",
    "\n",
    "VALID_ROOTS = ['VOCdevkit_2007_trainval/VOC2007', \n",
    "               'VOCdevkit_2012_trainval/VOC2012']\n",
    "\n",
    "TEST_ROOTS = ['VOCdevkit_2012_test/VOC2012']"
   ]
  },
  {
   "cell_type": "code",
   "execution_count": 20,
   "id": "87ea0a4a",
   "metadata": {},
   "outputs": [],
   "source": [
    "train_img_path, train_lab_path = load_data_path(TRAIN_ROOTS, target = 'train')\n",
    "valid_img_path, valid_lab_path = load_data_path(VALID_ROOTS, target = 'valid')\n",
    "test_img_path, test_lab_path   = load_data_path( TEST_ROOTS, target = 'test')"
   ]
  },
  {
   "cell_type": "code",
   "execution_count": 21,
   "id": "10c41d60",
   "metadata": {},
   "outputs": [
    {
     "name": "stdout",
     "output_type": "stream",
     "text": [
      "N_train: 13170\n",
      "N_valid: 8333\n",
      "N_test: 10991\n"
     ]
    }
   ],
   "source": [
    "print('N_train:', len(train_img_path))\n",
    "print('N_valid:', len(valid_img_path))\n",
    "print('N_test:', len(test_img_path))\n",
    "\n",
    "assert len(train_img_path) == 2501 + 4952 + 5717 and len(train_img_path) == len(train_lab_path)\n",
    "assert len(valid_img_path) == 2510 + 5823 and len(valid_img_path) == len(valid_lab_path)\n",
    "assert len(test_img_path)  == 10991 and len(test_img_path) == len(test_lab_path)\n",
    "\n",
    "def check_id(img_path, lab_path):\n",
    "    for img_id, lab_id in zip(img_path, lab_path):\n",
    "        img_id = (img_id.split('.')[0]).split('/')[-1]\n",
    "        lab_id = (lab_id.split('.')[0]).split('/')[-1]\n",
    "        assert img_id == lab_id\n",
    "    \n",
    "check_id(train_img_path, train_lab_path)\n",
    "check_id(valid_img_path, valid_lab_path)\n",
    "check_id(test_img_path, test_lab_path)"
   ]
  },
  {
   "cell_type": "code",
   "execution_count": 22,
   "id": "8806e8d2",
   "metadata": {},
   "outputs": [
    {
     "name": "stdout",
     "output_type": "stream",
     "text": [
      "[TRAIN]\n",
      "VOCdevkit_2007_trainval/VOC2007/JPEGImages/000012.jpg\n",
      "VOCdevkit_2007_trainval/VOC2007/Annotations/000012.xml\n",
      "[VALID]\n",
      "VOCdevkit_2007_trainval/VOC2007/JPEGImages/000005.jpg\n",
      "VOCdevkit_2007_trainval/VOC2007/Annotations/000005.xml\n",
      "[TEST]\n",
      "VOCdevkit_2012_test/VOC2012/JPEGImages/2008_000001.jpg\n",
      "VOCdevkit_2012_test/VOC2012/Annotations/2008_000001.xml\n"
     ]
    }
   ],
   "source": [
    "print('[TRAIN]')\n",
    "print(train_img_path[0])\n",
    "print(train_lab_path[0])\n",
    "\n",
    "print('[VALID]')\n",
    "print(valid_img_path[0])\n",
    "print(valid_lab_path[0])\n",
    "\n",
    "print('[TEST]')\n",
    "print(test_img_path[0])\n",
    "print(test_lab_path[0])"
   ]
  },
  {
   "cell_type": "markdown",
   "id": "515f39d8",
   "metadata": {},
   "source": [
    "# Split data into train, valid and test"
   ]
  },
  {
   "cell_type": "code",
   "execution_count": 14,
   "id": "0fb3c5f1",
   "metadata": {},
   "outputs": [],
   "source": [
    "FOLDERS = ['train', 'valid', 'test']\n",
    "for folder in FOLDERS:\n",
    "    if folder == 'train':\n",
    "        split_data(train_img_path, \n",
    "                   train_lab_path, \n",
    "                   target_root = os.path.join('data', folder))\n",
    "    elif folder == 'valid':\n",
    "        split_data(valid_img_path, \n",
    "                   valid_lab_path, \n",
    "                   target_root = os.path.join('data', folder))\n",
    "    elif folder == 'test':\n",
    "        split_data(valid_img_path, \n",
    "                   valid_lab_path, \n",
    "                   target_root = os.path.join('data', folder))"
   ]
  },
  {
   "cell_type": "code",
   "execution_count": null,
   "id": "d1d56b67",
   "metadata": {},
   "outputs": [],
   "source": []
  }
 ],
 "metadata": {
  "kernelspec": {
   "display_name": "Python 3 (ipykernel)",
   "language": "python",
   "name": "python3"
  },
  "language_info": {
   "codemirror_mode": {
    "name": "ipython",
    "version": 3
   },
   "file_extension": ".py",
   "mimetype": "text/x-python",
   "name": "python",
   "nbconvert_exporter": "python",
   "pygments_lexer": "ipython3",
   "version": "3.10.9"
  }
 },
 "nbformat": 4,
 "nbformat_minor": 5
}
